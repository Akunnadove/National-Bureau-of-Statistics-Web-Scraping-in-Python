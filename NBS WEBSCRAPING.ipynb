{
 "cells": [
  {
   "cell_type": "code",
   "execution_count": 1,
   "id": "77223405",
   "metadata": {},
   "outputs": [
    {
     "name": "stdout",
     "output_type": "stream",
     "text": [
      "['Premium Motor Spirit (PMS) ', 'Automatic Gasoline Oil (AGO)', 'National Household Kerosene (NHK) ', 'Liquefied Petroleum Gas 5Kg (LPG) ']\n",
      "['172.61', '654.46', '589.82', '3800.47']\n"
     ]
    }
   ],
   "source": [
    "#IMPORTING LIBRARIES\n",
    "import requests\n",
    "import smtplib\n",
    "import time\n",
    "import csv\n",
    "from bs4 import BeautifulSoup\n",
    "from email import encoders\n",
    "from email.mime.multipart import MIMEMultipart\n",
    "from email.mime.base import MIMEBase\n",
    "from email.mime.text import MIMEText \n",
    "from datetime import date\n",
    "\n",
    "#Website Link to be Scraped \n",
    "url=\"https://www.nigerianstat.gov.ng\"\n",
    " \n",
    "#User Agent\n",
    "headers = {'User-Agent':'Mozilla/5.0 (Windows NT 10.0; Win64; x64) AppleWebKit/537.36 (KHTML, like Gecko) Chrome/102.0.5005.63 Safari/537.36'}\n",
    "\n",
    "#CSV Creation and Instantiation\n",
    "current_date = str(date.today()) + \".csv\"\n",
    "csv_file = open(current_date,\"w\")\n",
    "csv_writer = csv.writer(csv_file)\n",
    "\n",
    "#Add Columns to the CSV\n",
    "csv_writer.writerow(['Section','Current Prices'])\n",
    "\n",
    "#Lists to store the scraped values\n",
    "section_list = [] \n",
    "price_list = []\n",
    "\n",
    "#Establishing connection with the website link\n",
    "html_page = requests.get(url, headers=headers)\n",
    "soup = BeautifulSoup(html_page.content, 'lxml')\n",
    "\n",
    "#Mapping out the area to be scraped\n",
    "general_info = soup.find_all(\"div\", class_=\"row\")[5].find_all(\"div\", class_=\"col-lg-3 col-md-6 col-sm-6 col-xs-12\")\n",
    "\n",
    "#Scraping through the mapped out area in a loop\n",
    "for i in range(0,4):\n",
    "        \n",
    "        #Getting the Section title and adding to the existing list\n",
    "        current_section = general_info[i].find_all(\"a\")[0].get_text()\n",
    "        section_list.append(current_section) \n",
    "        \n",
    "        #Getting the Section prices and adding to the existing list\n",
    "        current_prices = general_info[i].find_all(\"span\")[0].get_text()\n",
    "        price_list.append(current_prices) \n",
    "\n",
    "#Viewing the Lists \n",
    "print(section_list)\n",
    "print(price_list) \n",
    "\n",
    "#Convert the Lists Rows to Columns\n",
    "r = zip(section_list,price_list)\n",
    "\n",
    "for row in r:\n",
    "        csv_writer.writerow(row)\n",
    "\n",
    "#Instatiating the execution session time\n",
    "time.sleep(5)\n",
    "\n",
    "#Closing the CSV File\n",
    "csv_file.close()\n"
   ]
  },
  {
   "cell_type": "code",
   "execution_count": null,
   "id": "11aa52de",
   "metadata": {},
   "outputs": [],
   "source": [
    "#SEND_EMAIL FUNCTION THAT ATTACHES THE CSV FILE AND SENDS TO SPECIFIED ADDRESS\n",
    "def send_email(docname):\n",
    "    \n",
    "    #Email VAriable parameter assignment\n",
    "    msg = MIMEMultipart()\n",
    "    msg['From'] = \"example1@gmail.com\"\n",
    "    msg['To'] = \"example2@gmail.com\"\n",
    "    msg['Subject'] = \"National Bureau of Statistics Update\"\n",
    "    \n",
    "    #Body of the email\n",
    "    body = \"<h2>Hello! Here's the NBS Attached document</h2>\" \n",
    "    msg.attach(MIMEText(body, \"html\"))\n",
    "    \n",
    "    #Opening CSV document\n",
    "    my_doc = open(docname, 'rb')\n",
    "    \n",
    "    #Attaching the CSV File\n",
    "    part = MIMEBase('application', 'octet-stream')\n",
    "    part.set_payload((my_doc).read()) \n",
    "    encoders.encode_base64(part)\n",
    "    part.add_header('Content-Disposition','attachment; filename= ' + docname)\n",
    "    msg.attach(part)\n",
    "    \n",
    "    #Converting Message to String format\n",
    "    message = msg.as_string()\n",
    "    \n",
    "    #Email SERVER AUTHENTICATION and instantiation\n",
    "    server = smtplib.SMTP('smtp.gmail.com', ####)\n",
    "    server.starttls()\n",
    "    server.login(from_add, 'passcode')\n",
    "    \n",
    "    #Sending the Email\n",
    "    server.sendmail(\"example1@gmail.com\", \"example2@gmail.com\", message) "
   ]
  },
  {
   "cell_type": "code",
   "execution_count": null,
   "id": "3b382fe2",
   "metadata": {},
   "outputs": [],
   "source": [
    "#CALLING THE SEND_EMAIL SCRIPT FUNCTION\n",
    "send_email(docname:current_date)"
   ]
  }
 ],
 "metadata": {
  "kernelspec": {
   "display_name": "Python 3",
   "language": "python",
   "name": "python3"
  },
  "language_info": {
   "codemirror_mode": {
    "name": "ipython",
    "version": 3
   },
   "file_extension": ".py",
   "mimetype": "text/x-python",
   "name": "python",
   "nbconvert_exporter": "python",
   "pygments_lexer": "ipython3",
   "version": "3.8.8"
  }
 },
 "nbformat": 4,
 "nbformat_minor": 5
}
